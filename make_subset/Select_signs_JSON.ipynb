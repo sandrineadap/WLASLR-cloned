{
 "cells": [
  {
   "cell_type": "code",
   "execution_count": 1,
   "id": "731935d4-27f6-4a98-83d7-ee02abaf7901",
   "metadata": {},
   "outputs": [],
   "source": [
    "import json\n",
    "\n",
    "def read_and_show_json(file_path,signs,output_path):\n",
    "    output=\"{\"\n",
    "    try:\n",
    "        with open(file_path, 'r') as file:\n",
    "            json_content = json.load(file)\n",
    "            for key, value in json_content.items():\n",
    "                if json.dumps(value[\"action\"][0]) in signs:\n",
    "                    output+= '\"'+key+'\": '+json.dumps(value)+', '\n",
    "    except FileNotFoundError:\n",
    "        print(f\"File not found: {file_path}\")\n",
    "        \n",
    "    out = output[:-2]+\"}\"\n",
    "\n",
    "    f = open(output_path, \"w\")\n",
    "    f.write(out)\n",
    "    f.close()\n",
    "\n",
    "    return out"
   ]
  },
  {
   "cell_type": "code",
   "execution_count": 3,
   "id": "9cf000ba-551c-4e91-a176-688d1b5366d2",
   "metadata": {},
   "outputs": [],
   "source": [
    "json_file_path = '../wlasl-complete/nslt_100.json'\n",
    "output_path = 'nslt_selected.json'\n",
    "signs = [\"50\",\"51\",\"52\",\"53\",\"54\",\"55\",\"56\",\"57\",\"58\",\"59\"]\n",
    "\n",
    "out = read_and_show_json(json_file_path,signs,output_path)"
   ]
  },
  {
   "cell_type": "code",
   "execution_count": null,
   "id": "b902f349-6553-478c-b4a5-daf592fd25a1",
   "metadata": {},
   "outputs": [],
   "source": []
  }
 ],
 "metadata": {
  "kernelspec": {
   "display_name": "Python 3 (ipykernel)",
   "language": "python",
   "name": "python3"
  },
  "language_info": {
   "codemirror_mode": {
    "name": "ipython",
    "version": 3
   },
   "file_extension": ".py",
   "mimetype": "text/x-python",
   "name": "python",
   "nbconvert_exporter": "python",
   "pygments_lexer": "ipython3",
   "version": "3.11.4"
  }
 },
 "nbformat": 4,
 "nbformat_minor": 5
}
